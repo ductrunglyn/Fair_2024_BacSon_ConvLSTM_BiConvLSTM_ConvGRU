{
 "cells": [
  {
   "cell_type": "markdown",
   "metadata": {},
   "source": [
    "# Import thư viện"
   ]
  },
  {
   "cell_type": "code",
   "execution_count": 16,
   "metadata": {},
   "outputs": [],
   "source": [
    "import numpy as np\n",
    "from keras.models import Sequential\n",
    "import keras\n",
    "from keras.layers import ConvLSTM2D, Dropout, Flatten, Dense\n",
    "import os\n",
    "import cv2\n",
    "from keras.callbacks import EarlyStopping, ModelCheckpoint\n",
    "import tensorflow_addons as tfa\n",
    "from sklearn.metrics import mean_absolute_error, mean_squared_error, r2_score\n",
    "import matplotlib.pyplot as plt\n",
    "import random\n",
    "from deap import base, creator, tools, algorithms\n",
    "from tensorflow.keras.models import load_model"
   ]
  },
  {
   "cell_type": "markdown",
   "metadata": {},
   "source": [
    "numpy==1.26.4\n",
    "keras==2.15.0\n",
    "opencv-python==4.8.0.76\n",
    "tensorflow_addons==0.22.0\n",
    "deap==1.4.1\n",
    "tensorflow==2.15.0"
   ]
  },
  {
   "cell_type": "markdown",
   "metadata": {},
   "source": [
    "# Dữ liệu đầu vào"
   ]
  },
  {
   "cell_type": "markdown",
   "metadata": {},
   "source": [
    "### Đọc dữ liệu ảnh"
   ]
  },
  {
   "cell_type": "code",
   "execution_count": 17,
   "metadata": {},
   "outputs": [],
   "source": [
    "# Đường dẫn đến thư mục chứa ảnh\n",
    "image_folder = r\"E:\\BacSon\\Fair_2024_ConvLSTM_ConvGRU\\data\"\n",
    "# image_folder = r\"E:\\BacSon\\Fair_2023_ARIMA_LSTM_GRU\\dataSet\\data_img\"\n",
    "\n",
    "# Đọc từng file ảnh\n",
    "image_files = [f for f in os.listdir(image_folder) if os.path.isfile(os.path.join(image_folder, f))]"
   ]
  },
  {
   "cell_type": "code",
   "execution_count": 18,
   "metadata": {},
   "outputs": [],
   "source": [
    "# Chuyển ảnh về ma trận ảnh Gray\n",
    "\n",
    "def matrix_images(image_folder, image_files):\n",
    "    matrix_img = []\n",
    "    for img_file in image_files:\n",
    "        img_path = os.path.join(image_folder, img_file)\n",
    "        image = cv2.imread(img_path)\n",
    "        image = cv2.cvtColor(image, cv2.COLOR_BGR2GRAY)\n",
    "        matrix_img.append(image)\n",
    "\n",
    "    return matrix_img\n",
    "\n",
    "data = matrix_images(image_folder, image_files)"
   ]
  },
  {
   "cell_type": "markdown",
   "metadata": {},
   "source": [
    "### Chuẩn hóa dữ liệu"
   ]
  },
  {
   "cell_type": "code",
   "execution_count": 19,
   "metadata": {},
   "outputs": [],
   "source": [
    "# Áp dụng Min-Max Scaling chuẩn hóa dữ liệu\n",
    "def min_max_scaling(data):\n",
    "    # Chuyển danh sách các mảng numpy thành một mảng numpy đa chiều\n",
    "    data_array = np.array(data)\n",
    "\n",
    "    # Tính giá trị min và max trên toàn bộ dữ liệu\n",
    "    data_min = np.min(data_array)\n",
    "    data_max = np.max(data_array)\n",
    "\n",
    "    # Áp dụng công thức Min-Max Scaling\n",
    "    scaled_data = (data_array - data_min) / (data_max - data_min)\n",
    "\n",
    "    return scaled_data"
   ]
  },
  {
   "cell_type": "markdown",
   "metadata": {},
   "source": [
    "### Tạo nhãn cho dữ liệu"
   ]
  },
  {
   "cell_type": "code",
   "execution_count": 20,
   "metadata": {},
   "outputs": [],
   "source": [
    "data = min_max_scaling(data)\n",
    "data = np.expand_dims(data, axis=-1)"
   ]
  },
  {
   "cell_type": "code",
   "execution_count": 21,
   "metadata": {},
   "outputs": [],
   "source": [
    "def create_image_sequences(data, time_steps):\n",
    "    num_samples, height, width, channels = data.shape\n",
    "    num_frames = num_samples - time_steps\n",
    "    input_sequences = np.zeros((num_frames, time_steps, height, width, channels))\n",
    "    labels = np.zeros((num_frames, height, width, channels))  # Khởi tạo mảng label\n",
    "\n",
    "    for i in range(num_frames):\n",
    "        input_sequences[i] = data[i:i+time_steps]\n",
    "        labels[i] = data[i+time_steps]  # Xác định label là frame tiếp theo\n",
    "\n",
    "    return input_sequences, labels\n",
    "\n",
    "# Tạo chuỗi dữ liệu với 4 ảnh liên tiếp từ dữ liệu hình ảnh\n",
    "X_data, y_data = create_image_sequences(data, 4)"
   ]
  },
  {
   "cell_type": "markdown",
   "metadata": {},
   "source": [
    "### Chia dữ liệu"
   ]
  },
  {
   "cell_type": "code",
   "execution_count": 22,
   "metadata": {},
   "outputs": [],
   "source": [
    "# Chia dữ liệu\n",
    "size = int(len(X_data) * 0.8)\n",
    "size_val = int((len(X_data) - size) / 2)\n",
    "\n",
    "X_train = X_data[:size]\n",
    "X_val = X_data[size:size + size_val]\n",
    "X_test = X_data[-size_val:]\n",
    "\n",
    "y_train = y_data[:size]\n",
    "y_val = y_data[size:size + size_val]\n",
    "y_test = y_data[- size_val:]"
   ]
  },
  {
   "cell_type": "code",
   "execution_count": 23,
   "metadata": {},
   "outputs": [
    {
     "name": "stdout",
     "output_type": "stream",
     "text": [
      "Kích thước của X_train: (48, 4, 150, 150, 1)\n",
      "Kích thước của X_val: (6, 4, 150, 150, 1)\n",
      "Kích thước của X_test: (6, 4, 150, 150, 1)\n",
      "Kích thước của y_train: (48, 150, 150, 1)\n",
      "Kích thước của y_val: (6, 150, 150, 1)\n",
      "Kích thước của y_test: (6, 150, 150, 1)\n"
     ]
    }
   ],
   "source": [
    "# Kiểm tra kích thước của X_train\n",
    "print(\"Kích thước của X_train:\", X_train.shape)\n",
    "print(\"Kích thước của X_val:\", X_val.shape)\n",
    "print(\"Kích thước của X_test:\", X_test.shape)\n",
    "\n",
    "print(\"Kích thước của y_train:\", y_train.shape)\n",
    "print(\"Kích thước của y_val:\", y_val.shape)\n",
    "print(\"Kích thước của y_test:\", y_test.shape)"
   ]
  },
  {
   "cell_type": "markdown",
   "metadata": {},
   "source": [
    "# Mô hình ConvLSTM"
   ]
  },
  {
   "cell_type": "code",
   "execution_count": 24,
   "metadata": {},
   "outputs": [],
   "source": [
    "def conv_lstm(input_lstm, filters1, filters2, kernel_size1, kernel_size2, kernel_size3, activation):\n",
    "    # Xây dựng mô hình ConvLSTM\n",
    "    inputs_shape = input_lstm\n",
    "    model_lstm = Sequential()\n",
    "    model_lstm.add(ConvLSTM2D(filters=filters1, kernel_size=kernel_size1, input_shape=inputs_shape, padding='same', activation=activation, return_sequences=True))\n",
    "    model_lstm.add(ConvLSTM2D(filters=filters2, kernel_size=kernel_size2, padding='same', activation=activation, return_sequences=True))\n",
    "    model_lstm.add(ConvLSTM2D(filters=1, kernel_size=kernel_size3, padding='same', activation='tanh'))\n",
    "\n",
    "    return model_lstm"
   ]
  },
  {
   "cell_type": "code",
   "execution_count": 25,
   "metadata": {},
   "outputs": [],
   "source": [
    "def fitness_function(X_train, y_train, X_val, y_val, filters1, filters2, kernel_size1, kernel_size2, kernel_size3, \n",
    "                       activation, optimizer, epochs=1, model_path=\"\"):\n",
    "    # Xây dựng mô hình ConvLSTM\n",
    "    time_step, height, width, channels = X_train.shape[1:]\n",
    "    input_lstm = (time_step, height, width, channels)\n",
    "    model_lstm = conv_lstm(input_lstm, filters1, filters2, kernel_size1, kernel_size2, kernel_size3, activation)\n",
    "    \n",
    "    # Compile mô hình\n",
    "    model_lstm.compile(optimizer=optimizer, loss='mean_squared_error')\n",
    "\n",
    "    # Dừng sớm\n",
    "    early_stopping = EarlyStopping(monitor='val_loss', patience=10, verbose=1, mode='min', restore_best_weights=True)\n",
    "    \n",
    "    callbacks = [early_stopping]\n",
    "    if model_path:\n",
    "        model_checkpoint = ModelCheckpoint(model_path, monitor='val_loss', mode='min', save_best_only=True, verbose=1)\n",
    "        callbacks.append(model_checkpoint)\n",
    "\n",
    "    # Training model\n",
    "    history = model_lstm.fit(X_train, y_train,\n",
    "                             batch_size=4,\n",
    "                             epochs=epochs, \n",
    "                             validation_data=(X_val, y_val),\n",
    "                             callbacks=callbacks)\n",
    "    \n",
    "    # Hàm mục tiêu\n",
    "    val_loss = np.min(history.history['val_loss'])\n",
    "\n",
    "    if model_path:\n",
    "        # Load the best model\n",
    "        best_model = load_model(model_path)\n",
    "    else:\n",
    "        best_model = model_lstm\n",
    "\n",
    "    return val_loss, best_model, history"
   ]
  },
  {
   "cell_type": "code",
   "execution_count": 26,
   "metadata": {},
   "outputs": [],
   "source": [
    "# Hàm đánh giá cá thể trong quần thể\n",
    "def evaluate(individual):\n",
    "    if len(individual) < 4:  # Kiểm tra xem cá thể có đủ độ dài không\n",
    "        return float('inf'),  # Trả về một giá trị fitness vô cực để loại bỏ cá thể này\n",
    "\n",
    "    filters1, filters2, kernel_size1, kernel_size2, kernel_size3, activation = individual\n",
    "\n",
    "    print(\"Train Adam\")\n",
    "    optimizer_Adam = keras.optimizers.Adam(learning_rate=1e-3)\n",
    "    val_loss_adam, _, _ = fitness_function(X_train, y_train, X_val, y_val, filters1, filters2, \n",
    "                                             kernel_size1, kernel_size2, kernel_size3, activation, optimizer_Adam, epochs=50)\n",
    "    return val_loss_adam,\n",
    "\n",
    "    # print(\"Train YoGi\")\n",
    "    # optimizer_Yogi = tfa.optimizers.Yogi(learning_rate=1e-3)\n",
    "    # val_loss_yogi, _, _ = fitness_function(X_train, y_train, X_val, y_val, filters1, filters2, \n",
    "    #                                          kernel_size1, kernel_size2, kernel_size3, activation, optimizer_Yogi, epochs=1)\n",
    "\n",
    "    # if val_loss_adam < val_loss_yogi:\n",
    "    #     return val_loss_adam,\n",
    "    # else:\n",
    "    #     return val_loss_yogi,"
   ]
  },
  {
   "cell_type": "code",
   "execution_count": 27,
   "metadata": {},
   "outputs": [],
   "source": [
    "# Định nghĩa hàm tạo quần thể\n",
    "def create_population(n, filters_func1, filters_func2, kernel_size_func1, kernel_size_func2, kernel_size_func3, activation_func):\n",
    "    population = [creator.Individual([filters_func1(), filters_func2(), kernel_size_func1(), \n",
    "                                      kernel_size_func2(), kernel_size_func3(), activation_func()]) for _ in range(n)]\n",
    "    return population"
   ]
  },
  {
   "cell_type": "code",
   "execution_count": 28,
   "metadata": {},
   "outputs": [],
   "source": [
    "# Hàm đột biến cá thể\n",
    "def mutate_individual(individual, indpb):\n",
    "    if random.random() < indpb:\n",
    "        individual[0] = random.choice([16, 32, 64, 128])  # filters1\n",
    "    if random.random() < indpb:\n",
    "        individual[1] = random.choice([16, 32, 64, 128])  # filters2\n",
    "    if random.random() < indpb:\n",
    "        individual[2] = random.choice([(3, 3), (5, 5), (7, 7)])  # kernel_size1\n",
    "    if random.random() < indpb:\n",
    "        individual[3] = random.choice([(3, 3), (5, 5), (7, 7)])  # kernel_size2\n",
    "    if random.random() < indpb:\n",
    "        individual[4] = random.choice([(3, 3), (5, 5), (7, 7)])  # kernel_size3\n",
    "    if random.random() < indpb:\n",
    "        individual[5] = random.choice([\"tanh\", \"relu\", \"sigmoid\"])  # activation"
   ]
  },
  {
   "cell_type": "code",
   "execution_count": 29,
   "metadata": {},
   "outputs": [],
   "source": [
    "# Số lượng quần thể ban đầu\n",
    "num_populations = 4\n",
    "# Số lượng cá thể trong quần thể ban đầu\n",
    "individuals = 5\n",
    "# Quá trình lai ghép và đột biến\n",
    "num_generations = 2\n",
    "\n",
    "epochs = 200"
   ]
  },
  {
   "cell_type": "code",
   "execution_count": 30,
   "metadata": {},
   "outputs": [
    {
     "name": "stdout",
     "output_type": "stream",
     "text": [
      "Quần thể ban đầu 1:\n",
      "Cá thể thứ 0: [128, 128, (7, 7), (5, 5), (5, 5), 'relu']\n",
      "Cá thể thứ 1: [32, 16, (5, 5), (7, 7), (7, 7), 'tanh']\n",
      "\n",
      "Quần thể ban đầu 2:\n",
      "Cá thể thứ 0: [32, 32, (5, 5), (3, 3), (7, 7), 'tanh']\n",
      "Cá thể thứ 1: [16, 32, (5, 5), (3, 3), (5, 5), 'relu']\n",
      "\n",
      "Quần thể ban đầu 3:\n",
      "Cá thể thứ 0: [16, 32, (7, 7), (7, 7), (3, 3), 'tanh']\n",
      "Cá thể thứ 1: [128, 128, (5, 5), (5, 5), (7, 7), 'tanh']\n",
      "\n",
      "Quần thể ban đầu 4:\n",
      "Cá thể thứ 0: [32, 32, (3, 3), (7, 7), (5, 5), 'relu']\n",
      "Cá thể thứ 1: [32, 32, (7, 7), (5, 5), (5, 5), 'sigmoid']\n",
      "\n",
      "Train Adam\n"
     ]
    },
    {
     "name": "stderr",
     "output_type": "stream",
     "text": [
      "c:\\Users\\ductr\\AppData\\Local\\Programs\\Python\\Python39\\lib\\site-packages\\deap\\creator.py:185: RuntimeWarning: A class named 'FitnessMin' has already been created and it will be overwritten. Consider deleting previous creation of that class or rename it.\n",
      "  warnings.warn(\"A class named '{0}' has already been created and it \"\n",
      "c:\\Users\\ductr\\AppData\\Local\\Programs\\Python\\Python39\\lib\\site-packages\\deap\\creator.py:185: RuntimeWarning: A class named 'Individual' has already been created and it will be overwritten. Consider deleting previous creation of that class or rename it.\n",
      "  warnings.warn(\"A class named '{0}' has already been created and it \"\n"
     ]
    },
    {
     "name": "stdout",
     "output_type": "stream",
     "text": [
      "Epoch 1/50\n"
     ]
    }
   ],
   "source": [
    "# Khởi tạo hàm mục tiêu\n",
    "creator.create(\"FitnessMin\", base.Fitness, weights=(-1.0,))\n",
    "creator.create(\"Individual\", list, fitness=creator.FitnessMin)\n",
    "\n",
    "# Khởi tạo toolbox\n",
    "toolbox = base.Toolbox()\n",
    "toolbox.register(\"attr_filters\", random.choice, [16, 32, 64, 128])\n",
    "toolbox.register(\"attr_kernel_size\", random.choice, [(3, 3), (5, 5), (7, 7)])\n",
    "toolbox.register(\"attr_activation\", random.choice, [\"tanh\", \"relu\", \"sigmoid\"])\n",
    "\n",
    "# Đăng ký cá thể và quần thể\n",
    "toolbox.register(\"individual\", tools.initCycle, creator.Individual, \n",
    "                 (toolbox.attr_filters, toolbox.attr_filters, \n",
    "                  toolbox.attr_kernel_size, toolbox.attr_kernel_size, \n",
    "                  toolbox.attr_kernel_size, toolbox.attr_activation), n=1)\n",
    "toolbox.register(\"population\", tools.initRepeat, list, toolbox.individual)\n",
    "\n",
    "# Đăng ký các toán tử lai ghép, đột biến và chọn lọc\n",
    "toolbox.register(\"mate\", tools.cxTwoPoint)\n",
    "toolbox.register(\"mutate\", mutate_individual, indpb=0.15)\n",
    "toolbox.register(\"select\", tools.selTournament, tournsize=3)\n",
    "toolbox.register(\"evaluate\", evaluate)\n",
    "\n",
    "# Tạo và in quần thể ban đầu\n",
    "populations = []\n",
    "for i in range(num_populations):\n",
    "    population = create_population(individuals, toolbox.attr_filters, toolbox.attr_filters, \n",
    "                                   toolbox.attr_kernel_size, toolbox.attr_kernel_size, toolbox.attr_kernel_size, \n",
    "                                   toolbox.attr_activation)\n",
    "    populations.append(population)\n",
    "    print(f\"Quần thể ban đầu {i + 1}:\")\n",
    "    for j, ind in enumerate(population):\n",
    "        print(f\"Cá thể thứ {j}: {ind}\")\n",
    "    print()\n",
    "\n",
    "# Đánh giá fitness và chọn lọc cá thể tốt nhất cho mỗi quần thể ban đầu\n",
    "best_individuals = []\n",
    "for population in populations:\n",
    "    fits = toolbox.map(toolbox.evaluate, population)\n",
    "    for fit, ind in zip(fits, population):\n",
    "        ind.fitness.values = fit\n",
    "    best_ind = min(population, key=lambda ind: ind.fitness.values)\n",
    "    best_individuals.append(best_ind)\n",
    "    print(f\"Cá thể tốt nhất trong quần thể thứ {populations.index(population) + 1}: {best_ind} ban đầu\")\n",
    "print()\n",
    "\n",
    "print(\"Bắt đầu quá trình lai ghép và đột biến...\")\n",
    "print()\n",
    "\n",
    "# Quá trình lai ghép và đột biến\n",
    "for gen in range(num_generations):\n",
    "    # Tạo quần thể con bằng cách lai ghép và đột biến từ các cá thể tốt nhất\n",
    "    offspring = algorithms.varAnd(best_individuals, toolbox, cxpb=0.7, mutpb=0.15)\n",
    "    # offspring = algorithms.varAnd(best_individuals, toolbox, mutpb=0.15)\n",
    "    print(f\"Quần thể con F{gen + 1} đã được tiến hóa:\")\n",
    "    for i, ind in enumerate(offspring):\n",
    "        print(f\"Cá thể thứ {i}: {ind}\")\n",
    "\n",
    "    # Đánh giá fitness của quần thể con\n",
    "    fits = toolbox.map(toolbox.evaluate, offspring)\n",
    "    for fit, ind in zip(fits, offspring):\n",
    "        ind.fitness.values = fit\n",
    "    best_ind = min(offspring, key=lambda ind: ind.fitness.values)\n",
    "    best_individuals.append(best_ind)\n",
    "    print(f\"Cá thể tốt nhất trong quần thể con F{gen + 1}: {best_ind}\")\n",
    "\n",
    "    # Chọn lọc cá thể để tạo quần thể mới cho thế hệ tiếp theo\n",
    "    best_individuals = toolbox.select(offspring, k=len(best_individuals))\n",
    "    print()\n",
    "\n",
    "# In ra cá thể tốt nhất cuối cùng\n",
    "best_ind = min(best_individuals, key=lambda ind: ind.fitness.values)\n",
    "print(\"Cá thể tốt nhất cuối cùng:\")\n",
    "print(best_ind)"
   ]
  },
  {
   "cell_type": "markdown",
   "metadata": {},
   "source": [
    "# Đánh giá và Test mô hình"
   ]
  },
  {
   "cell_type": "markdown",
   "metadata": {},
   "source": [
    "### Các tham số từ cá thể tốt nhất"
   ]
  },
  {
   "cell_type": "code",
   "execution_count": null,
   "metadata": {},
   "outputs": [],
   "source": [
    "import matplotlib.pyplot as plt\n",
    "\n",
    "def plot_loss_model(history):\n",
    "    # Trích xuất giá trị loss trên tập huấn luyện và kiểm tra\n",
    "    train_loss = history.history['loss']\n",
    "    val_loss = history.history['val_loss']\n",
    "\n",
    "    # Vẽ biểu đồ\n",
    "    plt.plot(train_loss, marker='.', linestyle='-')\n",
    "    plt.plot(val_loss, marker='', linestyle='-')\n",
    "    plt.xlabel('Epoch')\n",
    "    plt.ylabel('Validation Loss')\n",
    "    plt.title('Validation Loss over Epochs')\n",
    "    plt.yscale('log')  # Scale y-axis to logarithmic scale\n",
    "    plt.show()"
   ]
  },
  {
   "cell_type": "code",
   "execution_count": null,
   "metadata": {},
   "outputs": [],
   "source": [
    "# Các tham số đầu vào mô hình LSTM\n",
    "filters1, filters2, kernel_size1, kernel_size2, kernel_size3, activation = best_ind\n",
    "\n",
    "print(filters1, filters2, kernel_size1, kernel_size2, kernel_size3, activation)"
   ]
  },
  {
   "cell_type": "code",
   "execution_count": null,
   "metadata": {},
   "outputs": [],
   "source": [
    "optimizer_Adam = keras.optimizers.Adam(learning_rate=1e-3)\n",
    "model_path_Adam = './Ketqua_GA/ConvLSTM/ConvLSTM_Adam.hdf5'\n",
    "_, model_lstm_Adam, history_lstm_Adam = fitness_function(X_train, y_train, X_val, y_val, filters1, filters2, \n",
    "                                                           kernel_size1, kernel_size2, kernel_size3, \n",
    "                                                           activation, optimizer_Adam, epochs=1, model_path=model_path_Adam)"
   ]
  },
  {
   "cell_type": "code",
   "execution_count": null,
   "metadata": {},
   "outputs": [],
   "source": [
    "plot_loss_model(history_lstm_Adam)"
   ]
  },
  {
   "cell_type": "code",
   "execution_count": null,
   "metadata": {},
   "outputs": [],
   "source": [
    "optimizer_Yogi = tfa.optimizers.Yogi(learning_rate=1e-3)\n",
    "model_path_Yogi = './Ketqua_GA/ConvLSTM/ConvLSTM_Yogi.hdf5'\n",
    "_, model_lstm_Yogi, history_lstm_Yogi = fitness_function(X_train, y_train, X_val, y_val, filters1, filters2, \n",
    "                                                           kernel_size1, kernel_size2, kernel_size3, activation, \n",
    "                                                           optimizer_Yogi, epochs=1, model_path=model_path_Yogi)"
   ]
  },
  {
   "cell_type": "code",
   "execution_count": null,
   "metadata": {},
   "outputs": [],
   "source": [
    "plot_loss_model(history_lstm_Yogi)"
   ]
  },
  {
   "cell_type": "markdown",
   "metadata": {},
   "source": [
    "### Đánh giá mô hình"
   ]
  },
  {
   "cell_type": "code",
   "execution_count": null,
   "metadata": {},
   "outputs": [],
   "source": [
    "# Đánh giá mô hình trên tập test\n",
    "loss1 = model_lstm_Adam.evaluate(X_val, np.array(y_val))\n",
    "print(f'Val loss: {loss1}')\n",
    "\n",
    "loss2 = model_lstm_Yogi.evaluate(X_val, np.array(y_val))\n",
    "print(f'Val loss: {loss2}')\n",
    "\n",
    "if loss1 < loss2:\n",
    "    print(\"Best Model Adam\")\n",
    "    model = model_lstm_Adam\n",
    "else:\n",
    "    print(\"Best Model YoGi\")\n",
    "    model = model_lstm_Yogi"
   ]
  },
  {
   "cell_type": "markdown",
   "metadata": {},
   "source": [
    "### Dự đoán "
   ]
  },
  {
   "cell_type": "code",
   "execution_count": null,
   "metadata": {},
   "outputs": [],
   "source": [
    "def test_model(model, X_test, y_test):\n",
    "    # Dự đoán ảnh mới\n",
    "    predicted = model.predict(X_test)\n",
    "    predicted_images = np.array(predicted)\n",
    "    y_test = np.array(y_test)\n",
    "\n",
    "\n",
    "    # Đánh giá MSE MAE R^2\n",
    "    mse = mean_squared_error(y_test.flatten(), predicted_images.flatten())\n",
    "    print(\"Mean Squared Error (MSE):\", mse)\n",
    "    mae = mean_absolute_error(y_test.flatten(), predicted_images.flatten())\n",
    "    print(\"Mean Absolute Error (MAE):\", mae)\n",
    "    r2 = r2_score(y_test.flatten(), predicted_images.flatten())\n",
    "    print(\"R-squared (R2) Score:\", r2)\n",
    "\n",
    "    # Hiển thị các ảnh dự đoán\n",
    "    fig, axs = plt.subplots(1, len(predicted_images), figsize=(15, 25))\n",
    "    for i in range(len(predicted_images)):\n",
    "        axs[i].imshow(predicted_images[i])  # Hiển thị ảnh cuối cùng trong mỗi mẫu dự đoán\n",
    "        axs[i].set_title(f\"Ảnh dự đoán {i+1}\")\n",
    "    plt.show()\n",
    "\n",
    "    return predicted_images\n",
    "\n",
    "test_model(model, X_test, y_test)"
   ]
  },
  {
   "cell_type": "code",
   "execution_count": null,
   "metadata": {},
   "outputs": [],
   "source": [
    "test_model(model_lstm_Adam, X_test, y_test)"
   ]
  },
  {
   "cell_type": "code",
   "execution_count": null,
   "metadata": {},
   "outputs": [],
   "source": [
    "test_model(model_lstm_Yogi, X_test, y_test)"
   ]
  }
 ],
 "metadata": {
  "kernelspec": {
   "display_name": "Python 3",
   "language": "python",
   "name": "python3"
  },
  "language_info": {
   "codemirror_mode": {
    "name": "ipython",
    "version": 3
   },
   "file_extension": ".py",
   "mimetype": "text/x-python",
   "name": "python",
   "nbconvert_exporter": "python",
   "pygments_lexer": "ipython3",
   "version": "3.9.10"
  }
 },
 "nbformat": 4,
 "nbformat_minor": 2
}
